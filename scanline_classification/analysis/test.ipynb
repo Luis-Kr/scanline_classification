{
 "cells": [
  {
   "cell_type": "code",
   "execution_count": 1,
   "metadata": {},
   "outputs": [],
   "source": [
    "import pandas as pd\n",
    "from pathlib import Path\n",
    "import seaborn as sns"
   ]
  },
  {
   "cell_type": "code",
   "execution_count": 3,
   "metadata": {},
   "outputs": [],
   "source": [
    "pcds_path = Path(\"/DATA/Luis/thesis/scanline_classification/data/data_for_training/scanline_subsampling/merged/training_data_merged_all.csv\")\n",
    "\n",
    "label_names={0: \"unclassified\",\n",
    "             1: \"man-made objects\",\n",
    "             2: \"ground\",\n",
    "             3: \"tree trunk/branches\",\n",
    "             4: \"leaves\",\n",
    "             5: \"low vegetation\"}\n",
    "\n",
    "# colors_dict = {\"man-made objects\": sns.color_palette(\"husl\", 4)[0],\n",
    "#                \"ground\": sns.color_palette(\"husl\", 4)[3],\n",
    "#                \"tree trunk/branches\": sns.color_palette(\"husl\", 4)[2],\n",
    "#                \"leaves\": sns.color_palette(\"husl\", 4)[1]}\n",
    "\n",
    "pcd_df = pd.read_csv(pcds_path, sep=\",\", header=0)\n",
    "pcd_df['label_names'] = pcd_df['label'].map(label_names)"
   ]
  },
  {
   "cell_type": "code",
   "execution_count": 5,
   "metadata": {},
   "outputs": [],
   "source": [
    "drop_cols = [\"x_median_nn\", \"y_median_nn\", \"x_perc2nd_nn\", \"y_perc2nd_nn\", \"x_perc98th_nn\", \"y_perc98th_nn\", \"segment_id\"]\n",
    "pcd_df_frac = pcd_df.drop(columns=drop_cols)"
   ]
  },
  {
   "cell_type": "code",
   "execution_count": 7,
   "metadata": {},
   "outputs": [],
   "source": [
    "# Remove the unclassified and low vegetation points\n",
    "pcd_df_frac = pcd_df_frac.groupby('label_names').sample(n=100000, replace=False, random_state=42)"
   ]
  },
  {
   "cell_type": "code",
   "execution_count": 8,
   "metadata": {},
   "outputs": [
    {
     "data": {
      "text/plain": [
       "label_names\n",
       "ground                 100000\n",
       "leaves                 100000\n",
       "low vegetation         100000\n",
       "man-made objects       100000\n",
       "tree trunk/branches    100000\n",
       "unclassified           100000\n",
       "Name: count, dtype: int64"
      ]
     },
     "execution_count": 8,
     "metadata": {},
     "output_type": "execute_result"
    }
   ],
   "source": [
    "pcd_df_frac['label_names'].value_counts()"
   ]
  },
  {
   "cell_type": "code",
   "execution_count": 10,
   "metadata": {},
   "outputs": [
    {
     "data": {
      "text/plain": [
       "Index(['z_median_nn', 'z_perc2nd_nn', 'z_perc98th_nn', 'intensity_mean',\n",
       "       'intensity_var', 'intensity_std', 'intensity_median',\n",
       "       'intensity_perc2nd', 'intensity_perc98th', 'intensity_skewness',\n",
       "       ...\n",
       "       'ny_skewness', 'nz_mean', 'nz_var', 'nz_std', 'nz_median', 'nz_perc2nd',\n",
       "       'nz_perc98th', 'nz_skewness', 'label', 'label_names'],\n",
       "      dtype='object', length=103)"
      ]
     },
     "execution_count": 10,
     "metadata": {},
     "output_type": "execute_result"
    }
   ],
   "source": [
    "pcd_df_frac.columns"
   ]
  },
  {
   "cell_type": "code",
   "execution_count": null,
   "metadata": {},
   "outputs": [],
   "source": []
  },
  {
   "cell_type": "code",
   "execution_count": 2,
   "metadata": {},
   "outputs": [],
   "source": [
    "path = \"/DATA/Luis/thesis/scanline_classification/data/data_for_training_z_normalization/validation/merged/validation_data_merged_frac.csv\"\n",
    "\n",
    "df = pd.read_csv(path, sep=\",\", header=0)"
   ]
  },
  {
   "cell_type": "code",
   "execution_count": 29,
   "metadata": {},
   "outputs": [
    {
     "data": {
      "text/plain": [
       "Index(['intensity_mean', 'intensity_var', 'intensity_std', 'intensity_median',\n",
       "       'intensity_perc2nd', 'intensity_perc98th', 'intensity_perc25th',\n",
       "       'intensity_perc75th', 'intensity_skewness', 'red_mean', 'red_var',\n",
       "       'red_std', 'red_median', 'red_perc2nd', 'red_perc98th', 'red_perc25th',\n",
       "       'red_perc75th', 'red_skewness', 'green_mean', 'green_var', 'green_std',\n",
       "       'green_median', 'green_perc2nd', 'green_perc98th', 'green_perc25th',\n",
       "       'green_perc75th', 'green_skewness', 'vert_angle_mean', 'vert_angle_var',\n",
       "       'vert_angle_std', 'vert_angle_median', 'vert_angle_perc2nd',\n",
       "       'vert_angle_perc98th', 'vert_angle_perc25th', 'vert_angle_perc75th',\n",
       "       'vert_angle_skewness', 'curvature_mean', 'curvature_var',\n",
       "       'curvature_std', 'curvature_median', 'curvature_perc2nd',\n",
       "       'curvature_perc98th', 'curvature_perc25th', 'curvature_perc75th',\n",
       "       'curvature_skewness', 'roughness_mean', 'roughness_var',\n",
       "       'roughness_std', 'roughness_median', 'roughness_perc2nd',\n",
       "       'roughness_perc98th', 'roughness_perc25th', 'roughness_perc75th',\n",
       "       'roughness_skewness', 'nz_xyz_mean', 'nz_xyz_var', 'nz_xyz_std',\n",
       "       'nz_xyz_median', 'nz_xyz_perc2nd', 'nz_xyz_perc98th', 'nz_xyz_perc25th',\n",
       "       'nz_xyz_perc75th', 'nz_xyz_skewness', 'nx_mean', 'nx_var', 'nx_std',\n",
       "       'nx_median', 'nx_perc2nd', 'nx_perc98th', 'nx_perc25th', 'nx_perc75th',\n",
       "       'nx_skewness', 'ny_mean', 'ny_var', 'ny_std', 'ny_median', 'ny_perc2nd',\n",
       "       'ny_perc98th', 'ny_perc25th', 'ny_perc75th', 'ny_skewness', 'nz_mean',\n",
       "       'nz_var', 'nz_std', 'nz_median', 'nz_perc2nd', 'nz_perc98th',\n",
       "       'nz_perc25th', 'nz_perc75th', 'nz_skewness'],\n",
       "      dtype='object')"
      ]
     },
     "execution_count": 29,
     "metadata": {},
     "output_type": "execute_result"
    }
   ],
   "source": [
    "df.columns[df.columns.str.contains('intensity|red|green|curvature|roughness|vert_angle|nx|ny|nz', case=True) & \n",
    "           ~df.columns.str.contains('nx_xyz|ny_xyz', case=True)]"
   ]
  },
  {
   "cell_type": "code",
   "execution_count": 8,
   "metadata": {},
   "outputs": [
    {
     "data": {
      "text/plain": [
       "Index(['label_names', 'label_names', 'label_names', 'label_names',\n",
       "       'label_names', 'label_names', 'label_names', 'label_names',\n",
       "       'label_names', 'label_names',\n",
       "       ...\n",
       "       'label_names', 'label_names', 'label_names', 'label_names',\n",
       "       'label_names', 'label_names', 'label_names', 'label_names',\n",
       "       'label_names', 'label_names'],\n",
       "      dtype='object', length=149)"
      ]
     },
     "execution_count": 8,
     "metadata": {},
     "output_type": "execute_result"
    }
   ],
   "source": [
    "df.columns[df.columns.str.find('intensity')]"
   ]
  },
  {
   "cell_type": "markdown",
   "metadata": {},
   "source": [
    "# 02.03.2024\n",
    "\n",
    "## PCD classification on 3D data"
   ]
  },
  {
   "cell_type": "markdown",
   "metadata": {},
   "source": [
    "- Import pcd txt-file and create an o3d object of it\n",
    "- Subsample the pcd\n",
    "    - Then convert back to a numpy array \n",
    "    - The subsampled pcd array should be linked with the original pcd array. Means only keep the points (rows) from the original pcd array that are in the subsampled pcd array\n",
    "- Based on the original and subsampled pcd array calculate a kd-tree\n",
    "    - For the beginning start with a neighborhood radius of 0.5m\n",
    "- For each point and its neighborhood consider the following attributes:\n",
    "    - Normalized Z (col 2), Intensity (3), Red(4), Green(5), Blue(6), Rho(7), theta(8) ...\n",
    "    - And calculate the for each neighborhood the and each attribut the following statistics:\n",
    "    - Mean, Median, Standard deviation, Variance, 2nd percentile, 25th percentile, 75th percentile and 98 percentile\n",
    "    - Then also calculate the normals, the curvature and the roughness using a covariance matrix from the neighborhood and again calculate for each attribute (normals, curvature and roughness) the statistics left above\n",
    "- Write all calculated aatributes/statistics to a new array\n",
    "- Save the array along with the x,y,z values"
   ]
  },
  {
   "cell_type": "code",
   "execution_count": 2,
   "metadata": {},
   "outputs": [
    {
     "name": "stdout",
     "output_type": "stream",
     "text": [
      "Jupyter environment detected. Enabling Open3D WebVisualizer.\n",
      "[Open3D INFO] WebRTC GUI backend enabled.\n",
      "[Open3D INFO] WebRTCWindowSystem: HTTP handshake server disabled.\n"
     ]
    }
   ],
   "source": [
    "import numpy as np\n",
    "import open3d as o3d"
   ]
  },
  {
   "cell_type": "code",
   "execution_count": 1,
   "metadata": {},
   "outputs": [
    {
     "ename": "NameError",
     "evalue": "name 'np' is not defined",
     "output_type": "error",
     "traceback": [
      "\u001b[0;31m---------------------------------------------------------------------------\u001b[0m",
      "\u001b[0;31mNameError\u001b[0m                                 Traceback (most recent call last)",
      "Cell \u001b[0;32mIn[1], line 2\u001b[0m\n\u001b[1;32m      1\u001b[0m pcd_path \u001b[38;5;241m=\u001b[39m \u001b[38;5;124m\"\u001b[39m\u001b[38;5;124m/DATA/Luis/thesis/scanline_classification/data/03_labeled/SiteA_RHV_01_Labeled.txt\u001b[39m\u001b[38;5;124m\"\u001b[39m\n\u001b[0;32m----> 2\u001b[0m pcd \u001b[38;5;241m=\u001b[39m \u001b[43mnp\u001b[49m\u001b[38;5;241m.\u001b[39mloadtxt(pcd_path, delimiter\u001b[38;5;241m=\u001b[39m\u001b[38;5;124m\"\u001b[39m\u001b[38;5;124m \u001b[39m\u001b[38;5;124m\"\u001b[39m)\n",
      "\u001b[0;31mNameError\u001b[0m: name 'np' is not defined"
     ]
    }
   ],
   "source": [
    "pcd_path = \"/DATA/Luis/thesis/scanline_classification/data/03_labeled/SiteA_RHV_01_Labeled.txt\"\n",
    "pcd = np.loadtxt(pcd_path, delimiter=\" \")"
   ]
  },
  {
   "cell_type": "code",
   "execution_count": 3,
   "metadata": {},
   "outputs": [
    {
     "data": {
      "text/plain": [
       "array([4., 4., 4., 4., 4., 4., 4., 4., 4., 4.])"
      ]
     },
     "execution_count": 3,
     "metadata": {},
     "output_type": "execute_result"
    }
   ],
   "source": [
    "pcd[0:10, -1]"
   ]
  },
  {
   "cell_type": "code",
   "execution_count": 13,
   "metadata": {},
   "outputs": [],
   "source": [
    "# Duplizieren Sie pcd[:, -1] 9 mal\n",
    "duplicated_pcd = np.repeat(pcd[:, -1], 9)\n",
    "\n",
    "# Ändern Sie die Form von duplicated_pcd zu (pcd.shape[0], 3, 3)\n",
    "reshaped_pcd = duplicated_pcd.reshape(pcd.shape[0], 3, 3)"
   ]
  },
  {
   "cell_type": "code",
   "execution_count": 18,
   "metadata": {},
   "outputs": [
    {
     "data": {
      "text/plain": [
       "(6989110,)"
      ]
     },
     "execution_count": 18,
     "metadata": {},
     "output_type": "execute_result"
    }
   ],
   "source": [
    "reshaped_pcd[:,0,0].shape"
   ]
  },
  {
   "cell_type": "code",
   "execution_count": 4,
   "metadata": {},
   "outputs": [],
   "source": [
    "# Initialize the point cloud open3d object\n",
    "pcd_o3d = o3d.geometry.PointCloud()\n",
    "pcd_o3d.points = o3d.utility.Vector3dVector(pcd[:, :3])\n",
    "pcd_o3d.colors = o3d.utility.Vector3dVector(pcd[:, (4,5,6)] / 255)\n",
    "pcd_o3d.normals = o3d.utility.Vector3dVector(pcd[:, (3,7,8)])"
   ]
  },
  {
   "cell_type": "code",
   "execution_count": 14,
   "metadata": {},
   "outputs": [],
   "source": [
    "subsampled_pcd = pcd_o3d.voxel_down_sample(voxel_size=0.1)"
   ]
  },
  {
   "cell_type": "code",
   "execution_count": 21,
   "metadata": {},
   "outputs": [],
   "source": [
    "subsampled_pcd_array_xyz = np.asarray(subsampled_pcd.points)\n",
    "subsampled_pcd_array_rgb = np.asarray(subsampled_pcd.colors) * 255\n",
    "subsampled_pcd_array_refrhotht = np.asarray(subsampled_pcd.normals)"
   ]
  },
  {
   "cell_type": "code",
   "execution_count": 24,
   "metadata": {},
   "outputs": [
    {
     "data": {
      "text/plain": [
       "array([[0.74509804, 0.6       , 0.42352941],\n",
       "       [0.74117647, 0.59607843, 0.41960784],\n",
       "       [0.74117647, 0.59607843, 0.41960784],\n",
       "       ...,\n",
       "       [0.43921569, 0.4       , 0.40392157],\n",
       "       [0.42745098, 0.38431373, 0.4       ],\n",
       "       [0.41176471, 0.36862745, 0.38431373]])"
      ]
     },
     "execution_count": 24,
     "metadata": {},
     "output_type": "execute_result"
    }
   ],
   "source": [
    "pcd[:, (4,5,6)] / 255"
   ]
  },
  {
   "cell_type": "code",
   "execution_count": 22,
   "metadata": {},
   "outputs": [
    {
     "data": {
      "text/plain": [
       "array([[ 85.77777778,  89.88888889,  79.77777778],\n",
       "       [ 86.6       ,  88.51428571,  92.8       ],\n",
       "       [ 69.5862069 ,  68.52873563,  70.86206897],\n",
       "       ...,\n",
       "       [163.42857143, 145.71428571, 127.42857143],\n",
       "       [ 83.66666667,  73.66666667,  87.33333333],\n",
       "       [ 76.8       ,  68.2       ,  81.4       ]])"
      ]
     },
     "execution_count": 22,
     "metadata": {},
     "output_type": "execute_result"
    }
   ],
   "source": [
    "subsampled_pcd_array_rgb"
   ]
  },
  {
   "cell_type": "code",
   "execution_count": 1,
   "metadata": {},
   "outputs": [],
   "source": [
    "from pathlib import Path"
   ]
  },
  {
   "cell_type": "code",
   "execution_count": 23,
   "metadata": {},
   "outputs": [
    {
     "name": "stdout",
     "output_type": "stream",
     "text": [
      "/DATA/Luis/thesis/scanline_classification/data/data_for_training_final_SM2CT20NM3_v02/scanline_segmentation/SiteD_RHV_02_Labeled_Segmentation.txt\n"
     ]
    }
   ],
   "source": [
    "path = Path(\"/DATA/Luis/thesis/scanline_classification/data/data_for_training_final_SM2CT20NM3_v02/validation/SiteD_RHV_02_Labeled_Subsampled.txt\")\n",
    "segmentation_pcds_dir = Path(\"/DATA/Luis/thesis/scanline_classification/data/data_for_training_final_SM2CT20NM3_v02/scanline_segmentation\")\n",
    "file_to_search = \"_\".join(path.stem.split(\"_\")[0:3])\n",
    "segmentation_pcd = segmentation_pcds_dir.glob(f\"{file_to_search}*\").__next__()\n",
    "\n",
    "print(segmentation_pcd)"
   ]
  },
  {
   "cell_type": "code",
   "execution_count": 1,
   "metadata": {},
   "outputs": [],
   "source": [
    "import pandas as pd"
   ]
  },
  {
   "cell_type": "code",
   "execution_count": 2,
   "metadata": {},
   "outputs": [],
   "source": [
    "path = \"/DATA/Luis/thesis/scanline_classification/data/data_for_training_final_SM2CT20NM3_v02/classification_training_sample10000/classification_report/SiteD_RHV_06_Labeled_Subsampled_nzcol_skewnessstat_cls_report_fr.csv\""
   ]
  },
  {
   "cell_type": "code",
   "execution_count": 3,
   "metadata": {},
   "outputs": [],
   "source": [
    "df = pd.read_csv(path, sep=\",\", header=0)"
   ]
  },
  {
   "cell_type": "code",
   "execution_count": 8,
   "metadata": {},
   "outputs": [],
   "source": [
    "df = df.rename(columns={df.columns[0]: \"attribute\"})"
   ]
  },
  {
   "cell_type": "code",
   "execution_count": 9,
   "metadata": {},
   "outputs": [
    {
     "data": {
      "text/html": [
       "<div>\n",
       "<style scoped>\n",
       "    .dataframe tbody tr th:only-of-type {\n",
       "        vertical-align: middle;\n",
       "    }\n",
       "\n",
       "    .dataframe tbody tr th {\n",
       "        vertical-align: top;\n",
       "    }\n",
       "\n",
       "    .dataframe thead th {\n",
       "        text-align: right;\n",
       "    }\n",
       "</style>\n",
       "<table border=\"1\" class=\"dataframe\">\n",
       "  <thead>\n",
       "    <tr style=\"text-align: right;\">\n",
       "      <th></th>\n",
       "      <th>attribute</th>\n",
       "      <th>precision</th>\n",
       "      <th>recall</th>\n",
       "      <th>f1-score</th>\n",
       "      <th>support</th>\n",
       "      <th>statistics</th>\n",
       "      <th>drop_col</th>\n",
       "      <th>baseline_model</th>\n",
       "      <th>filename</th>\n",
       "    </tr>\n",
       "  </thead>\n",
       "  <tbody>\n",
       "    <tr>\n",
       "      <th>0</th>\n",
       "      <td>unclassified</td>\n",
       "      <td>0.061422</td>\n",
       "      <td>0.342944</td>\n",
       "      <td>0.104184</td>\n",
       "      <td>2.934300e+04</td>\n",
       "      <td>skewness</td>\n",
       "      <td>nz</td>\n",
       "      <td>0</td>\n",
       "      <td>SiteD_RHV_06_Labeled_Subsampled</td>\n",
       "    </tr>\n",
       "    <tr>\n",
       "      <th>1</th>\n",
       "      <td>man-made objects</td>\n",
       "      <td>0.663999</td>\n",
       "      <td>0.306920</td>\n",
       "      <td>0.419797</td>\n",
       "      <td>1.151841e+06</td>\n",
       "      <td>skewness</td>\n",
       "      <td>nz</td>\n",
       "      <td>0</td>\n",
       "      <td>SiteD_RHV_06_Labeled_Subsampled</td>\n",
       "    </tr>\n",
       "    <tr>\n",
       "      <th>2</th>\n",
       "      <td>ground</td>\n",
       "      <td>0.969571</td>\n",
       "      <td>0.962108</td>\n",
       "      <td>0.965825</td>\n",
       "      <td>4.155353e+06</td>\n",
       "      <td>skewness</td>\n",
       "      <td>nz</td>\n",
       "      <td>0</td>\n",
       "      <td>SiteD_RHV_06_Labeled_Subsampled</td>\n",
       "    </tr>\n",
       "    <tr>\n",
       "      <th>3</th>\n",
       "      <td>tree trunk/branches</td>\n",
       "      <td>0.265002</td>\n",
       "      <td>0.440294</td>\n",
       "      <td>0.330865</td>\n",
       "      <td>6.853850e+05</td>\n",
       "      <td>skewness</td>\n",
       "      <td>nz</td>\n",
       "      <td>0</td>\n",
       "      <td>SiteD_RHV_06_Labeled_Subsampled</td>\n",
       "    </tr>\n",
       "    <tr>\n",
       "      <th>4</th>\n",
       "      <td>leaves</td>\n",
       "      <td>0.714885</td>\n",
       "      <td>0.635577</td>\n",
       "      <td>0.672902</td>\n",
       "      <td>9.478020e+05</td>\n",
       "      <td>skewness</td>\n",
       "      <td>nz</td>\n",
       "      <td>0</td>\n",
       "      <td>SiteD_RHV_06_Labeled_Subsampled</td>\n",
       "    </tr>\n",
       "    <tr>\n",
       "      <th>5</th>\n",
       "      <td>low vegetation</td>\n",
       "      <td>0.082164</td>\n",
       "      <td>0.528015</td>\n",
       "      <td>0.142200</td>\n",
       "      <td>3.109000e+04</td>\n",
       "      <td>skewness</td>\n",
       "      <td>nz</td>\n",
       "      <td>0</td>\n",
       "      <td>SiteD_RHV_06_Labeled_Subsampled</td>\n",
       "    </tr>\n",
       "    <tr>\n",
       "      <th>6</th>\n",
       "      <td>accuracy</td>\n",
       "      <td>0.754494</td>\n",
       "      <td>0.754494</td>\n",
       "      <td>0.754494</td>\n",
       "      <td>7.544938e-01</td>\n",
       "      <td>skewness</td>\n",
       "      <td>nz</td>\n",
       "      <td>0</td>\n",
       "      <td>SiteD_RHV_06_Labeled_Subsampled</td>\n",
       "    </tr>\n",
       "    <tr>\n",
       "      <th>7</th>\n",
       "      <td>macro avg</td>\n",
       "      <td>0.459507</td>\n",
       "      <td>0.535976</td>\n",
       "      <td>0.439296</td>\n",
       "      <td>7.000814e+06</td>\n",
       "      <td>skewness</td>\n",
       "      <td>nz</td>\n",
       "      <td>0</td>\n",
       "      <td>SiteD_RHV_06_Labeled_Subsampled</td>\n",
       "    </tr>\n",
       "    <tr>\n",
       "      <th>8</th>\n",
       "      <td>weighted avg</td>\n",
       "      <td>0.808090</td>\n",
       "      <td>0.754494</td>\n",
       "      <td>0.766898</td>\n",
       "      <td>7.000814e+06</td>\n",
       "      <td>skewness</td>\n",
       "      <td>nz</td>\n",
       "      <td>0</td>\n",
       "      <td>SiteD_RHV_06_Labeled_Subsampled</td>\n",
       "    </tr>\n",
       "  </tbody>\n",
       "</table>\n",
       "</div>"
      ],
      "text/plain": [
       "             attribute  precision    recall  f1-score       support  \\\n",
       "0         unclassified   0.061422  0.342944  0.104184  2.934300e+04   \n",
       "1     man-made objects   0.663999  0.306920  0.419797  1.151841e+06   \n",
       "2               ground   0.969571  0.962108  0.965825  4.155353e+06   \n",
       "3  tree trunk/branches   0.265002  0.440294  0.330865  6.853850e+05   \n",
       "4               leaves   0.714885  0.635577  0.672902  9.478020e+05   \n",
       "5       low vegetation   0.082164  0.528015  0.142200  3.109000e+04   \n",
       "6             accuracy   0.754494  0.754494  0.754494  7.544938e-01   \n",
       "7            macro avg   0.459507  0.535976  0.439296  7.000814e+06   \n",
       "8         weighted avg   0.808090  0.754494  0.766898  7.000814e+06   \n",
       "\n",
       "  statistics drop_col  baseline_model                         filename  \n",
       "0   skewness       nz               0  SiteD_RHV_06_Labeled_Subsampled  \n",
       "1   skewness       nz               0  SiteD_RHV_06_Labeled_Subsampled  \n",
       "2   skewness       nz               0  SiteD_RHV_06_Labeled_Subsampled  \n",
       "3   skewness       nz               0  SiteD_RHV_06_Labeled_Subsampled  \n",
       "4   skewness       nz               0  SiteD_RHV_06_Labeled_Subsampled  \n",
       "5   skewness       nz               0  SiteD_RHV_06_Labeled_Subsampled  \n",
       "6   skewness       nz               0  SiteD_RHV_06_Labeled_Subsampled  \n",
       "7   skewness       nz               0  SiteD_RHV_06_Labeled_Subsampled  \n",
       "8   skewness       nz               0  SiteD_RHV_06_Labeled_Subsampled  "
      ]
     },
     "execution_count": 9,
     "metadata": {},
     "output_type": "execute_result"
    }
   ],
   "source": [
    "df"
   ]
  },
  {
   "cell_type": "code",
   "execution_count": 29,
   "metadata": {},
   "outputs": [],
   "source": [
    "stats = [\"mean\",\"var\",\"std\",\"median\",\"perc2nd\",\"perc98th\",\"perc25th\",\"perc75th\",\"skewness\"]\n",
    "col_to_consider = \"z\"\n",
    "#cols_to_consider = \"|\".join([\"_\".join([col_to_consider, stat]) for stat in stats])\n",
    "cols_to_consider = [\"_\".join([col_to_consider, stat]) for stat in stats]"
   ]
  },
  {
   "cell_type": "code",
   "execution_count": 30,
   "metadata": {},
   "outputs": [
    {
     "data": {
      "text/plain": [
       "['z_mean',\n",
       " 'z_var',\n",
       " 'z_std',\n",
       " 'z_median',\n",
       " 'z_perc2nd',\n",
       " 'z_perc98th',\n",
       " 'z_perc25th',\n",
       " 'z_perc75th',\n",
       " 'z_skewness']"
      ]
     },
     "execution_count": 30,
     "metadata": {},
     "output_type": "execute_result"
    }
   ],
   "source": [
    "cols_to_consider"
   ]
  },
  {
   "cell_type": "code",
   "execution_count": 19,
   "metadata": {},
   "outputs": [],
   "source": [
    "import numpy as np"
   ]
  },
  {
   "cell_type": "code",
   "execution_count": 26,
   "metadata": {},
   "outputs": [],
   "source": [
    "testt = np.array(['z_median_nn', 'z_perc2nd_nn', 'z_perc98th_nn', 'z_mean', 'z_var',\n",
    "       'z_std', 'z_median', 'z_perc2nd', 'z_perc98th', 'z_perc25th',\n",
    "       'z_perc75th', 'z_skewness', 'nx_xyz_mean', 'nx_xyz_var', 'nx_xyz_std',\n",
    "       'nx_xyz_median', 'nx_xyz_perc2nd', 'nx_xyz_perc98th', 'nx_xyz_perc25th',\n",
    "       'nx_xyz_perc75th', 'nx_xyz_skewness', 'ny_xyz_mean', 'ny_xyz_var',\n",
    "       'ny_xyz_std', 'ny_xyz_median', 'ny_xyz_perc2nd', 'ny_xyz_perc98th',\n",
    "       'ny_xyz_perc25th', 'ny_xyz_perc75th', 'ny_xyz_skewness', 'nz_xyz_mean',\n",
    "       'nz_xyz_var', 'nz_xyz_std', 'nz_xyz_median', 'nz_xyz_perc2nd',\n",
    "       'nz_xyz_perc98th', 'nz_xyz_perc25th', 'nz_xyz_perc75th',\n",
    "       'nz_xyz_skewness', 'nz_mean', 'nz_var', 'nz_std', 'nz_median',\n",
    "       'nz_perc2nd', 'nz_perc98th', 'nz_perc25th', 'nz_perc75th',\n",
    "       'nz_skewness'])"
   ]
  },
  {
   "cell_type": "code",
   "execution_count": 28,
   "metadata": {},
   "outputs": [
    {
     "data": {
      "text/plain": [
       "['v',\n",
       " 'p',\n",
       " 'w',\n",
       " 'a',\n",
       " '|',\n",
       " '9',\n",
       " '8',\n",
       " 'i',\n",
       " 'm',\n",
       " '2',\n",
       " '5',\n",
       " 'd',\n",
       " 'z',\n",
       " '7',\n",
       " 'h',\n",
       " '_',\n",
       " 'r',\n",
       " 'n',\n",
       " 'e',\n",
       " 't',\n",
       " 'k',\n",
       " 's',\n",
       " 'c']"
      ]
     },
     "execution_count": 28,
     "metadata": {},
     "output_type": "execute_result"
    }
   ],
   "source": [
    "list(set(cols_to_consider))"
   ]
  },
  {
   "cell_type": "code",
   "execution_count": 2,
   "metadata": {},
   "outputs": [],
   "source": [
    "cols_to_consider = [\"z\",\"red\",\"green\",\"slope\",\"curvature\",\"roughness\",\"nz_xyz\",\"nx\",\"nz\"]\n",
    "stats_to_consider = [\"perc2nd\",\"perc25th\",\"perc75th\",\"skewness\"]"
   ]
  },
  {
   "cell_type": "code",
   "execution_count": 6,
   "metadata": {},
   "outputs": [],
   "source": [
    "attributes_to_consider = [f\"{i}_{j}\" for i in cols_to_consider for j in stats_to_consider]"
   ]
  },
  {
   "cell_type": "code",
   "execution_count": 7,
   "metadata": {},
   "outputs": [
    {
     "data": {
      "text/plain": [
       "['z_perc2nd',\n",
       " 'z_perc25th',\n",
       " 'z_perc75th',\n",
       " 'z_skewness',\n",
       " 'red_perc2nd',\n",
       " 'red_perc25th',\n",
       " 'red_perc75th',\n",
       " 'red_skewness',\n",
       " 'green_perc2nd',\n",
       " 'green_perc25th',\n",
       " 'green_perc75th',\n",
       " 'green_skewness',\n",
       " 'slope_perc2nd',\n",
       " 'slope_perc25th',\n",
       " 'slope_perc75th',\n",
       " 'slope_skewness',\n",
       " 'curvature_perc2nd',\n",
       " 'curvature_perc25th',\n",
       " 'curvature_perc75th',\n",
       " 'curvature_skewness',\n",
       " 'roughness_perc2nd',\n",
       " 'roughness_perc25th',\n",
       " 'roughness_perc75th',\n",
       " 'roughness_skewness',\n",
       " 'nz_xyz_perc2nd',\n",
       " 'nz_xyz_perc25th',\n",
       " 'nz_xyz_perc75th',\n",
       " 'nz_xyz_skewness',\n",
       " 'nx_perc2nd',\n",
       " 'nx_perc25th',\n",
       " 'nx_perc75th',\n",
       " 'nx_skewness',\n",
       " 'nz_perc2nd',\n",
       " 'nz_perc25th',\n",
       " 'nz_perc75th',\n",
       " 'nz_skewness']"
      ]
     },
     "execution_count": 7,
     "metadata": {},
     "output_type": "execute_result"
    }
   ],
   "source": [
    "attributes_to_consider"
   ]
  },
  {
   "cell_type": "code",
   "execution_count": 25,
   "metadata": {},
   "outputs": [],
   "source": [
    "import pandas as pd\n",
    "import numpy as np\n",
    "import pickle"
   ]
  },
  {
   "cell_type": "code",
   "execution_count": 13,
   "metadata": {},
   "outputs": [
    {
     "data": {
      "text/html": [
       "<div>\n",
       "<style scoped>\n",
       "    .dataframe tbody tr th:only-of-type {\n",
       "        vertical-align: middle;\n",
       "    }\n",
       "\n",
       "    .dataframe tbody tr th {\n",
       "        vertical-align: top;\n",
       "    }\n",
       "\n",
       "    .dataframe thead th {\n",
       "        text-align: right;\n",
       "    }\n",
       "</style>\n",
       "<table border=\"1\" class=\"dataframe\">\n",
       "  <thead>\n",
       "    <tr style=\"text-align: right;\">\n",
       "      <th></th>\n",
       "      <th>a</th>\n",
       "      <th>b</th>\n",
       "    </tr>\n",
       "  </thead>\n",
       "  <tbody>\n",
       "    <tr>\n",
       "      <th>0</th>\n",
       "      <td>1</td>\n",
       "      <td>0</td>\n",
       "    </tr>\n",
       "    <tr>\n",
       "      <th>1</th>\n",
       "      <td>1</td>\n",
       "      <td>0</td>\n",
       "    </tr>\n",
       "    <tr>\n",
       "      <th>2</th>\n",
       "      <td>2</td>\n",
       "      <td>0</td>\n",
       "    </tr>\n",
       "    <tr>\n",
       "      <th>3</th>\n",
       "      <td>2</td>\n",
       "      <td>0</td>\n",
       "    </tr>\n",
       "  </tbody>\n",
       "</table>\n",
       "</div>"
      ],
      "text/plain": [
       "   a  b\n",
       "0  1  0\n",
       "1  1  0\n",
       "2  2  0\n",
       "3  2  0"
      ]
     },
     "execution_count": 13,
     "metadata": {},
     "output_type": "execute_result"
    }
   ],
   "source": [
    "df1 = pd.DataFrame({\"a\": [1,1,2,2], \"b\": [0,0,0,0]})\n",
    "df2 = pd.DataFrame({\"a\": [1,2], \"d\": [7,9]})    \n",
    "df"
   ]
  },
  {
   "cell_type": "code",
   "execution_count": 14,
   "metadata": {},
   "outputs": [
    {
     "data": {
      "text/html": [
       "<div>\n",
       "<style scoped>\n",
       "    .dataframe tbody tr th:only-of-type {\n",
       "        vertical-align: middle;\n",
       "    }\n",
       "\n",
       "    .dataframe tbody tr th {\n",
       "        vertical-align: top;\n",
       "    }\n",
       "\n",
       "    .dataframe thead th {\n",
       "        text-align: right;\n",
       "    }\n",
       "</style>\n",
       "<table border=\"1\" class=\"dataframe\">\n",
       "  <thead>\n",
       "    <tr style=\"text-align: right;\">\n",
       "      <th></th>\n",
       "      <th>a</th>\n",
       "      <th>b</th>\n",
       "      <th>d</th>\n",
       "    </tr>\n",
       "  </thead>\n",
       "  <tbody>\n",
       "    <tr>\n",
       "      <th>0</th>\n",
       "      <td>1</td>\n",
       "      <td>0</td>\n",
       "      <td>7</td>\n",
       "    </tr>\n",
       "    <tr>\n",
       "      <th>1</th>\n",
       "      <td>1</td>\n",
       "      <td>0</td>\n",
       "      <td>7</td>\n",
       "    </tr>\n",
       "    <tr>\n",
       "      <th>2</th>\n",
       "      <td>2</td>\n",
       "      <td>0</td>\n",
       "      <td>9</td>\n",
       "    </tr>\n",
       "    <tr>\n",
       "      <th>3</th>\n",
       "      <td>2</td>\n",
       "      <td>0</td>\n",
       "      <td>9</td>\n",
       "    </tr>\n",
       "  </tbody>\n",
       "</table>\n",
       "</div>"
      ],
      "text/plain": [
       "   a  b  d\n",
       "0  1  0  7\n",
       "1  1  0  7\n",
       "2  2  0  9\n",
       "3  2  0  9"
      ]
     },
     "execution_count": 14,
     "metadata": {},
     "output_type": "execute_result"
    }
   ],
   "source": [
    "# join on the 'a' column\n",
    "df1.merge(df2, on='a', how='inner')"
   ]
  },
  {
   "cell_type": "code",
   "execution_count": 26,
   "metadata": {},
   "outputs": [],
   "source": [
    "columns_paths = \"/DATA/Luis/thesis/scanline_classification/data/data_for_training_final_SM2CT20NM3_v02/scanline_subsampling/attribute_statistics/SiteA_RHV_01_Labeled.pkl\"\n",
    "\n",
    "with open(columns_paths, \"rb\") as f:\n",
    "    column_names = pickle.load(f)"
   ]
  },
  {
   "cell_type": "code",
   "execution_count": 29,
   "metadata": {},
   "outputs": [],
   "source": [
    "subsampled_pcd = np.loadtxt(\"/DATA/Luis/thesis/scanline_classification/data/data_for_training_final_SM2CT20NM3_v02/validation/SiteD_RHV_01_Labeled_Subsampled.txt\", delimiter=\" \")\n",
    "pcd = np.loadtxt(\"/DATA/Luis/thesis/scanline_classification/data/data_for_training_final_SM2CT20NM3_v02/scanline_segmentation/SiteD_RHV_01_Labeled_Segmentation.txt\", delimiter=\" \")"
   ]
  },
  {
   "cell_type": "code",
   "execution_count": 40,
   "metadata": {},
   "outputs": [
    {
     "data": {
      "text/html": [
       "<div>\n",
       "<style scoped>\n",
       "    .dataframe tbody tr th:only-of-type {\n",
       "        vertical-align: middle;\n",
       "    }\n",
       "\n",
       "    .dataframe tbody tr th {\n",
       "        vertical-align: top;\n",
       "    }\n",
       "\n",
       "    .dataframe thead th {\n",
       "        text-align: right;\n",
       "    }\n",
       "</style>\n",
       "<table border=\"1\" class=\"dataframe\">\n",
       "  <thead>\n",
       "    <tr style=\"text-align: right;\">\n",
       "      <th></th>\n",
       "      <th>id</th>\n",
       "      <th>y_pred</th>\n",
       "    </tr>\n",
       "  </thead>\n",
       "  <tbody>\n",
       "    <tr>\n",
       "      <th>0</th>\n",
       "      <td>1.0</td>\n",
       "      <td>2.0</td>\n",
       "    </tr>\n",
       "    <tr>\n",
       "      <th>1</th>\n",
       "      <td>2.0</td>\n",
       "      <td>2.0</td>\n",
       "    </tr>\n",
       "    <tr>\n",
       "      <th>2</th>\n",
       "      <td>3.0</td>\n",
       "      <td>2.0</td>\n",
       "    </tr>\n",
       "    <tr>\n",
       "      <th>3</th>\n",
       "      <td>4.0</td>\n",
       "      <td>2.0</td>\n",
       "    </tr>\n",
       "    <tr>\n",
       "      <th>4</th>\n",
       "      <td>5.0</td>\n",
       "      <td>2.0</td>\n",
       "    </tr>\n",
       "    <tr>\n",
       "      <th>...</th>\n",
       "      <td>...</td>\n",
       "      <td>...</td>\n",
       "    </tr>\n",
       "    <tr>\n",
       "      <th>484866</th>\n",
       "      <td>484867.0</td>\n",
       "      <td>4.0</td>\n",
       "    </tr>\n",
       "    <tr>\n",
       "      <th>484867</th>\n",
       "      <td>484868.0</td>\n",
       "      <td>4.0</td>\n",
       "    </tr>\n",
       "    <tr>\n",
       "      <th>484868</th>\n",
       "      <td>484869.0</td>\n",
       "      <td>4.0</td>\n",
       "    </tr>\n",
       "    <tr>\n",
       "      <th>484869</th>\n",
       "      <td>484870.0</td>\n",
       "      <td>4.0</td>\n",
       "    </tr>\n",
       "    <tr>\n",
       "      <th>484870</th>\n",
       "      <td>484871.0</td>\n",
       "      <td>4.0</td>\n",
       "    </tr>\n",
       "  </tbody>\n",
       "</table>\n",
       "<p>484871 rows × 2 columns</p>\n",
       "</div>"
      ],
      "text/plain": [
       "              id  y_pred\n",
       "0            1.0     2.0\n",
       "1            2.0     2.0\n",
       "2            3.0     2.0\n",
       "3            4.0     2.0\n",
       "4            5.0     2.0\n",
       "...          ...     ...\n",
       "484866  484867.0     4.0\n",
       "484867  484868.0     4.0\n",
       "484868  484869.0     4.0\n",
       "484869  484870.0     4.0\n",
       "484870  484871.0     4.0\n",
       "\n",
       "[484871 rows x 2 columns]"
      ]
     },
     "execution_count": 40,
     "metadata": {},
     "output_type": "execute_result"
    }
   ],
   "source": [
    "cols = [\"id\", \"y_pred\"]\n",
    "subsampled_pcd_df = pd.DataFrame(subsampled_pcd[:, [-2, -1]], columns=cols)\n",
    "subsampled_pcd_df"
   ]
  },
  {
   "cell_type": "code",
   "execution_count": 39,
   "metadata": {},
   "outputs": [
    {
     "data": {
      "text/html": [
       "<div>\n",
       "<style scoped>\n",
       "    .dataframe tbody tr th:only-of-type {\n",
       "        vertical-align: middle;\n",
       "    }\n",
       "\n",
       "    .dataframe tbody tr th {\n",
       "        vertical-align: top;\n",
       "    }\n",
       "\n",
       "    .dataframe thead th {\n",
       "        text-align: right;\n",
       "    }\n",
       "</style>\n",
       "<table border=\"1\" class=\"dataframe\">\n",
       "  <thead>\n",
       "    <tr style=\"text-align: right;\">\n",
       "      <th></th>\n",
       "      <th>id</th>\n",
       "      <th>label</th>\n",
       "    </tr>\n",
       "  </thead>\n",
       "  <tbody>\n",
       "    <tr>\n",
       "      <th>0</th>\n",
       "      <td>1.0</td>\n",
       "      <td>2.0</td>\n",
       "    </tr>\n",
       "    <tr>\n",
       "      <th>1</th>\n",
       "      <td>1.0</td>\n",
       "      <td>2.0</td>\n",
       "    </tr>\n",
       "    <tr>\n",
       "      <th>2</th>\n",
       "      <td>1.0</td>\n",
       "      <td>2.0</td>\n",
       "    </tr>\n",
       "    <tr>\n",
       "      <th>3</th>\n",
       "      <td>1.0</td>\n",
       "      <td>2.0</td>\n",
       "    </tr>\n",
       "    <tr>\n",
       "      <th>4</th>\n",
       "      <td>1.0</td>\n",
       "      <td>2.0</td>\n",
       "    </tr>\n",
       "    <tr>\n",
       "      <th>...</th>\n",
       "      <td>...</td>\n",
       "      <td>...</td>\n",
       "    </tr>\n",
       "    <tr>\n",
       "      <th>6739441</th>\n",
       "      <td>484869.0</td>\n",
       "      <td>4.0</td>\n",
       "    </tr>\n",
       "    <tr>\n",
       "      <th>6739442</th>\n",
       "      <td>484869.0</td>\n",
       "      <td>4.0</td>\n",
       "    </tr>\n",
       "    <tr>\n",
       "      <th>6739443</th>\n",
       "      <td>484869.0</td>\n",
       "      <td>4.0</td>\n",
       "    </tr>\n",
       "    <tr>\n",
       "      <th>6739444</th>\n",
       "      <td>484870.0</td>\n",
       "      <td>4.0</td>\n",
       "    </tr>\n",
       "    <tr>\n",
       "      <th>6739445</th>\n",
       "      <td>484871.0</td>\n",
       "      <td>4.0</td>\n",
       "    </tr>\n",
       "  </tbody>\n",
       "</table>\n",
       "<p>6739446 rows × 2 columns</p>\n",
       "</div>"
      ],
      "text/plain": [
       "               id  label\n",
       "0             1.0    2.0\n",
       "1             1.0    2.0\n",
       "2             1.0    2.0\n",
       "3             1.0    2.0\n",
       "4             1.0    2.0\n",
       "...           ...    ...\n",
       "6739441  484869.0    4.0\n",
       "6739442  484869.0    4.0\n",
       "6739443  484869.0    4.0\n",
       "6739444  484870.0    4.0\n",
       "6739445  484871.0    4.0\n",
       "\n",
       "[6739446 rows x 2 columns]"
      ]
     },
     "execution_count": 39,
     "metadata": {},
     "output_type": "execute_result"
    }
   ],
   "source": [
    "cols = [\"id\", \"label\"]\n",
    "pcd_df = pd.DataFrame(pcd[:, [19, 11]], columns=cols)\n",
    "pcd_df"
   ]
  },
  {
   "cell_type": "code",
   "execution_count": 42,
   "metadata": {},
   "outputs": [
    {
     "data": {
      "text/html": [
       "<div>\n",
       "<style scoped>\n",
       "    .dataframe tbody tr th:only-of-type {\n",
       "        vertical-align: middle;\n",
       "    }\n",
       "\n",
       "    .dataframe tbody tr th {\n",
       "        vertical-align: top;\n",
       "    }\n",
       "\n",
       "    .dataframe thead th {\n",
       "        text-align: right;\n",
       "    }\n",
       "</style>\n",
       "<table border=\"1\" class=\"dataframe\">\n",
       "  <thead>\n",
       "    <tr style=\"text-align: right;\">\n",
       "      <th></th>\n",
       "      <th>id</th>\n",
       "      <th>label</th>\n",
       "      <th>y_pred</th>\n",
       "    </tr>\n",
       "  </thead>\n",
       "  <tbody>\n",
       "    <tr>\n",
       "      <th>0</th>\n",
       "      <td>1.0</td>\n",
       "      <td>2.0</td>\n",
       "      <td>2.0</td>\n",
       "    </tr>\n",
       "    <tr>\n",
       "      <th>1</th>\n",
       "      <td>1.0</td>\n",
       "      <td>2.0</td>\n",
       "      <td>2.0</td>\n",
       "    </tr>\n",
       "    <tr>\n",
       "      <th>2</th>\n",
       "      <td>1.0</td>\n",
       "      <td>2.0</td>\n",
       "      <td>2.0</td>\n",
       "    </tr>\n",
       "    <tr>\n",
       "      <th>3</th>\n",
       "      <td>1.0</td>\n",
       "      <td>2.0</td>\n",
       "      <td>2.0</td>\n",
       "    </tr>\n",
       "    <tr>\n",
       "      <th>4</th>\n",
       "      <td>1.0</td>\n",
       "      <td>2.0</td>\n",
       "      <td>2.0</td>\n",
       "    </tr>\n",
       "    <tr>\n",
       "      <th>...</th>\n",
       "      <td>...</td>\n",
       "      <td>...</td>\n",
       "      <td>...</td>\n",
       "    </tr>\n",
       "    <tr>\n",
       "      <th>6739441</th>\n",
       "      <td>484869.0</td>\n",
       "      <td>4.0</td>\n",
       "      <td>4.0</td>\n",
       "    </tr>\n",
       "    <tr>\n",
       "      <th>6739442</th>\n",
       "      <td>484869.0</td>\n",
       "      <td>4.0</td>\n",
       "      <td>4.0</td>\n",
       "    </tr>\n",
       "    <tr>\n",
       "      <th>6739443</th>\n",
       "      <td>484869.0</td>\n",
       "      <td>4.0</td>\n",
       "      <td>4.0</td>\n",
       "    </tr>\n",
       "    <tr>\n",
       "      <th>6739444</th>\n",
       "      <td>484870.0</td>\n",
       "      <td>4.0</td>\n",
       "      <td>4.0</td>\n",
       "    </tr>\n",
       "    <tr>\n",
       "      <th>6739445</th>\n",
       "      <td>484871.0</td>\n",
       "      <td>4.0</td>\n",
       "      <td>4.0</td>\n",
       "    </tr>\n",
       "  </tbody>\n",
       "</table>\n",
       "<p>6739446 rows × 3 columns</p>\n",
       "</div>"
      ],
      "text/plain": [
       "               id  label  y_pred\n",
       "0             1.0    2.0     2.0\n",
       "1             1.0    2.0     2.0\n",
       "2             1.0    2.0     2.0\n",
       "3             1.0    2.0     2.0\n",
       "4             1.0    2.0     2.0\n",
       "...           ...    ...     ...\n",
       "6739441  484869.0    4.0     4.0\n",
       "6739442  484869.0    4.0     4.0\n",
       "6739443  484869.0    4.0     4.0\n",
       "6739444  484870.0    4.0     4.0\n",
       "6739445  484871.0    4.0     4.0\n",
       "\n",
       "[6739446 rows x 3 columns]"
      ]
     },
     "execution_count": 42,
     "metadata": {},
     "output_type": "execute_result"
    }
   ],
   "source": [
    "unfold_pcd = pcd_df.merge(subsampled_pcd_df, on=\"id\", how=\"inner\")\n",
    "unfold_pcd"
   ]
  },
  {
   "cell_type": "code",
   "execution_count": null,
   "metadata": {},
   "outputs": [],
   "source": []
  }
 ],
 "metadata": {
  "kernelspec": {
   "display_name": "scanline_classification",
   "language": "python",
   "name": "python3"
  },
  "language_info": {
   "codemirror_mode": {
    "name": "ipython",
    "version": 3
   },
   "file_extension": ".py",
   "mimetype": "text/x-python",
   "name": "python",
   "nbconvert_exporter": "python",
   "pygments_lexer": "ipython3",
   "version": "3.10.13"
  }
 },
 "nbformat": 4,
 "nbformat_minor": 2
}
